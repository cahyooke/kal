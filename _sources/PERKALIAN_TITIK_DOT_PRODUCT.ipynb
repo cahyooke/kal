{
  "cells": [
    {
      "cell_type": "markdown",
      "metadata": {
        "id": "OyWnl0J4USEp"
      },
      "source": [
        "# perkalian titik vektor (DOT PRODUCT)"
      ]
    },
    {
      "cell_type": "markdown",
      "metadata": {
        "id": "kmLfTlnqknZn",
        "vscode": {
          "languageId": "raw"
        }
      },
      "source": [
        "## 1. Perkalian Titik Vektor (Dot Product)\n",
        "\n",
        "**Definisi:**\n",
        "Perkalian titik (dot product) antara dua vektor **A** dan **B** adalah hasil kali skalar yang dihitung dengan cara menjumlahkan hasil kali komponen yang bersesuaian. Jika:\n",
        "\n",
        "$$\n",
        "\\mathbf{A} = (a_1, a_2, a_3, \\ldots, a_n)\n",
        "$$\n",
        "$$\n",
        "\\mathbf{B} = (b_1, b_2, b_3, \\ldots, b_n)\n",
        "$$\n",
        "\n",
        "Maka dot product:\n",
        "$$\n",
        "\\mathbf{A} \\cdot \\mathbf{B} = a_1b_1 + a_2b_2 + a_3b_3 + \\ldots + a_nb_n\n",
        "$$\n",
        "\n",
        "**Rumus:**\n",
        "$$\n",
        "\\mathbf{A} \\cdot \\mathbf{B} = \\sum_{i=1}^{n} a_i b_i\n",
        "$$\n",
        "\n",
        "**Interpretasi Geometris:**\n",
        "$$\n",
        "\\mathbf{A} \\cdot \\mathbf{B} = |\\mathbf{A}| |\\mathbf{B}| \\cos \\theta\n",
        "$$\n",
        "di mana $\\theta$ adalah sudut antara kedua vektor.\n",
        "\n",
        "## Hitungan Manual - Dot Product\n",
        "\n",
        "Misalkan:\n",
        "- $\\mathbf{A} = (1, 2, 3)$\n",
        "- $\\mathbf{B} = (4, 5, 6)$\n",
        "\n",
        "Hitungan manual:\n",
        "$$\n",
        "\\mathbf{A} \\cdot \\mathbf{B} = (1 \\times 4) + (2 \\times 5) + (3 \\times 6)\n",
        "$$\n",
        "$$\n",
        "= 4 + 10 + 18 = 32\n",
        "$$\n"
      ]
    },
    {
      "cell_type": "code",
      "execution_count": 1,
      "metadata": {
        "colab": {
          "base_uri": "https://localhost:8080/"
        },
        "id": "fYkSCcnWULsu",
        "outputId": "254461d5-0603-4d37-db08-b82874bc185d"
      },
      "outputs": [
        {
          "name": "stdout",
          "output_type": "stream",
          "text": [
            "Dot product dari [1, 2, 3] dan [4, 5, 6] adalah: 32\n"
          ]
        }
      ],
      "source": [
        "# Program: Dot Product\n",
        "\n",
        "def dot_product(v1, v2):\n",
        "    if len(v1) != len(v2):\n",
        "        raise ValueError(\"Vektor harus memiliki dimensi yang sama\")\n",
        "\n",
        "    hasil = 0\n",
        "    for a, b in zip(v1, v2):\n",
        "        hasil += a * b\n",
        "    return hasil\n",
        "\n",
        "# Contoh penggunaan\n",
        "vektor1 = [1, 2, 3]\n",
        "vektor2 = [4, 5, 6]\n",
        "\n",
        "hasil_dot = dot_product(vektor1, vektor2)\n",
        "print(f\"Dot product dari {vektor1} dan {vektor2} adalah: {hasil_dot}\")\n"
      ]
    },
    {
      "cell_type": "markdown",
      "metadata": {
        "id": "4hTkTu3sksGH"
      },
      "source": [
        "## 2. Vektor Satuan\n",
        "\n",
        "**Definisi:**\n",
        "Vektor satuan adalah vektor yang memiliki panjang (magnitude) 1. Untuk setiap vektor **V**, vektor satuannya $\\hat{V}$ diperoleh dengan membagi setiap komponennya dengan panjang vektornya.\n",
        "\n",
        "**Rumus:**\n",
        "$$\n",
        "|\\mathbf{V}| = \\sqrt{v_1^2 + v_2^2 + \\ldots + v_n^2}\n",
        "$$\n",
        "$$\n",
        "\\hat{\\mathbf{V}} = \\frac{\\mathbf{V}}{|\\mathbf{V}|}\n",
        "$$\n",
        "\n",
        "## Hitungan Manual - Vektor Satuan\n",
        "\n",
        "Misalkan:\n",
        "- $\\mathbf{V} = (3, 4, 0)$\n",
        "\n",
        "**Panjang vektor:**\n",
        "$$\n",
        "|\\mathbf{V}| = \\sqrt{3^2 + 4^2 + 0^2} = \\sqrt{9 + 16} = \\sqrt{25} = 5\n",
        "$$\n",
        "\n",
        "**Vektor satuan:**\n",
        "$$\n",
        "\\hat{\\mathbf{V}} = \\frac{1}{5} \\times (3, 4, 0)\n",
        "$$\n",
        "$$\n",
        "= (0.6, 0.8, 0)\n",
        "$$\n"
      ]
    },
    {
      "cell_type": "code",
      "execution_count": null,
      "metadata": {
        "colab": {
          "base_uri": "https://localhost:8080/"
        },
        "id": "yUjo6RB-k0D-",
        "outputId": "865e3c84-2437-438d-ebcb-359e9b1dac01"
      },
      "outputs": [
        {
          "name": "stdout",
          "output_type": "stream",
          "text": [
            "Vektor satuan dari [3, 4, 0] adalah: [0.6, 0.8, 0.0]\n"
          ]
        }
      ],
      "source": [
        "# Program: Konversi ke Vektor Satuan\n",
        "\n",
        "import math\n",
        "\n",
        "def vector_magnitude(v):\n",
        "    return math.sqrt(sum(x**2 for x in v))\n",
        "\n",
        "def unit_vector(v):\n",
        "    magnitude = vector_magnitude(v)\n",
        "    if magnitude == 0:\n",
        "        raise ValueError(\"Vektor nol tidak memiliki vektor satuan\")\n",
        "    return [x / magnitude for x in v]\n",
        "\n",
        "# Contoh penggunaan\n",
        "vektor = [3, 4, 0]\n",
        "vektor_satuan = unit_vector(vektor)\n",
        "\n",
        "print(f\"Vektor satuan dari {vektor} adalah: {vektor_satuan}\")\n"
      ]
    }
  ],
  "metadata": {
    "colab": {
      "provenance": []
    },
    "kernelspec": {
      "display_name": "Python 3",
      "name": "python3"
    },
    "language_info": {
      "codemirror_mode": {
        "name": "ipython",
        "version": 3
      },
      "file_extension": ".py",
      "mimetype": "text/x-python",
      "name": "python",
      "nbconvert_exporter": "python",
      "pygments_lexer": "ipython3",
      "version": "3.12.1"
    }
  },
  "nbformat": 4,
  "nbformat_minor": 0
}
